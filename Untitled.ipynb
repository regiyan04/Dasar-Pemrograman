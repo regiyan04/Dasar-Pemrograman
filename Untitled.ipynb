{
 "cells": [
  {
   "cell_type": "code",
   "execution_count": 1,
   "id": "8253a881",
   "metadata": {},
   "outputs": [
    {
     "name": "stdout",
     "output_type": "stream",
     "text": [
      "Dingin\n",
      "Hari ini sangat cerah\n"
     ]
    }
   ],
   "source": [
    "cuaca = \"Hujan\"\n",
    "if cuaca == \"Hujan\":\n",
    "    print(\"Dingin\")\n",
    "print(\"Hari ini sangat cerah\")\n"
   ]
  },
  {
   "cell_type": "code",
   "execution_count": 4,
   "id": "a0b6e432",
   "metadata": {
    "scrolled": true
   },
   "outputs": [
    {
     "ename": "SyntaxError",
     "evalue": "invalid syntax (3714619373.py, line 3)",
     "output_type": "error",
     "traceback": [
      "\u001b[1;36m  Input \u001b[1;32mIn [4]\u001b[1;36m\u001b[0m\n\u001b[1;33m    if sisa bagi == 0:\u001b[0m\n\u001b[1;37m            ^\u001b[0m\n\u001b[1;31mSyntaxError\u001b[0m\u001b[1;31m:\u001b[0m invalid syntax\n"
     ]
    }
   ],
   "source": [
    "nilai = 10\n",
    "sisa_bagi = nilai % 2\n",
    "if sisa bagi == 0:\n",
    "    print(f\"{nilai} adalah bilangan genap\")\n",
    "else :\n",
    "    print(f\"{nilai} adalah bilangan ganjil\")"
   ]
  },
  {
   "cell_type": "code",
   "execution_count": 8,
   "id": "0770681c",
   "metadata": {},
   "outputs": [
    {
     "name": "stdout",
     "output_type": "stream",
     "text": [
      "Isi nilai10000\n"
     ]
    }
   ],
   "source": [
    "nilai = int(input(\"Isi nilai\"))\n",
    "if nilai <= 100:\n",
    "    print(f\"{nilai} adalah nilai E\")\n",
    "elif nilai <= 59:\n",
    "    print(f\"{nilai} adalah nilai D\")\n",
    "elif nilai <= 69:\n",
    "    print(f\"{nilai} adalah nilai C\")\n",
    "elif nilai <= 84:\n",
    "    print(f\"{nilai} adalah nilai B\")\n",
    "elif nilai <= 100:\n",
    "    print(f\"{nilai} adalah nilai A\")\n",
    "    \n",
    "   "
   ]
  },
  {
   "cell_type": "code",
   "execution_count": null,
   "id": "60bfcd00",
   "metadata": {},
   "outputs": [],
   "source": [
    "username = input(\"isikan username: \")\n",
    "password = input(\"isikan password: \")\n",
    "\n",
    "if username == \"admin\":\n",
    "    if password == \"admin\":\n",
    "        print(f\"selamat datang {username}\")\n",
    "    else:\n",
    "        print(\"password anda salah\")\n",
    "else:\n",
    "    if password == \"admin\":\n",
    "        print(\"username anda salah\")\n",
    "    else:\n",
    "        print(\"username dan password anda salah\")"
   ]
  },
  {
   "cell_type": "code",
   "execution_count": null,
   "id": "d29c6e14",
   "metadata": {},
   "outputs": [],
   "source": [
    "nama = input(\"Masukkan nama: \")\n",
    "umur = int(input(\"Masukkan umur: \"))\n",
    "tempat_tinggal = input(\"Masukkan nama: \")\n",
    "uang_tabungan = int(input(\"Masukkan berapa uang tabungan \")\n",
    "\n",
    "pangkat = \"\"\n",
    "\n",
    "if umur > 40:\n",
    "    if tinggal == \"Nevada\" or tinggal == \"New York\" or tinggal == \"Havana\":\n",
    "        if tabungan > 10000000:\n",
    "            pangkat = \"Don\"\n",
    "\n",
    "if pangkat != \"\":\n",
    "    print(f\"{nama} kemungkinan anggota mafia dengan pangkat {pangkat}\")\n"
   ]
  },
  {
   "cell_type": "code",
   "execution_count": null,
   "id": "3a7b530e",
   "metadata": {},
   "outputs": [],
   "source": []
  }
 ],
 "metadata": {
  "kernelspec": {
   "display_name": "Python 3 (ipykernel)",
   "language": "python",
   "name": "python3"
  },
  "language_info": {
   "codemirror_mode": {
    "name": "ipython",
    "version": 3
   },
   "file_extension": ".py",
   "mimetype": "text/x-python",
   "name": "python",
   "nbconvert_exporter": "python",
   "pygments_lexer": "ipython3",
   "version": "3.9.12"
  }
 },
 "nbformat": 4,
 "nbformat_minor": 5
}
